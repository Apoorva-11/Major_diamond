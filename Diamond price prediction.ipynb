{
 "cells": [
  {
   "cell_type": "code",
   "execution_count": null,
   "id": "5ec1a2b6",
   "metadata": {},
   "outputs": [],
   "source": [
    "import numpy as np\n",
    "import pandas as pd\n",
    "import matplotlib.pyplot as plt\n",
    "import seaborn as sns"
   ]
  },
  {
   "cell_type": "code",
   "execution_count": null,
   "id": "21676532",
   "metadata": {},
   "outputs": [],
   "source": [
    "from warnings import simplefilter\n",
    "from sklearn.exceptions import ConvergenceWarning\n",
    "simplefilter(\"ignore\", category=ConvergenceWarning)"
   ]
  },
  {
   "cell_type": "code",
   "execution_count": null,
   "id": "542b2eaf",
   "metadata": {},
   "outputs": [],
   "source": [
    "data = pd.read_csv(\"diamonds.csv\")\n",
    "data.head()"
   ]
  },
  {
   "cell_type": "code",
   "execution_count": null,
   "id": "1d5df8e8",
   "metadata": {},
   "outputs": [],
   "source": [
    "data = data.drop(['Unnamed: 0'], axis=1)"
   ]
  },
  {
   "cell_type": "code",
   "execution_count": null,
   "id": "64ba0741",
   "metadata": {},
   "outputs": [],
   "source": [
    "data.head()"
   ]
  },
  {
   "cell_type": "code",
   "execution_count": null,
   "id": "def43cfd",
   "metadata": {},
   "outputs": [],
   "source": [
    "data.info()"
   ]
  },
  {
   "cell_type": "code",
   "execution_count": null,
   "id": "d66018e6",
   "metadata": {},
   "outputs": [],
   "source": [
    "data.isnull().sum()"
   ]
  },
  {
   "cell_type": "code",
   "execution_count": null,
   "id": "c8cf2d41",
   "metadata": {},
   "outputs": [],
   "source": [
    "data.plot()"
   ]
  },
  {
   "cell_type": "code",
   "execution_count": null,
   "id": "8a8accbf",
   "metadata": {},
   "outputs": [],
   "source": [
    "data.describe()"
   ]
  },
  {
   "cell_type": "code",
   "execution_count": null,
   "id": "d5ce2601",
   "metadata": {},
   "outputs": [],
   "source": [
    "plt.figure(figsize=(10,12))\n",
    "heat=sns.heatmap(data.corr(), annot=True,cmap='RdYlGn',square=True)  "
   ]
  },
  {
   "cell_type": "raw",
   "id": "917b4785",
   "metadata": {},
   "source": [
    "1)x,y,and z have a very strong relation with price but surprisingly depth (which comes from x,y, and z) doesn't has a significant relation with price.\n",
    "2)Carat has a strong relation with price\n",
    "3)Table doesn't have a significant relation with price or any other variable as well ( We can try dropping that when making the model)"
   ]
  },
  {
   "cell_type": "code",
   "execution_count": null,
   "id": "d8ea50a5",
   "metadata": {},
   "outputs": [],
   "source": [
    "p=sns.pairplot(data)"
   ]
  },
  {
   "cell_type": "code",
   "execution_count": null,
   "id": "1971765d",
   "metadata": {},
   "outputs": [],
   "source": [
    "fig = plt.figure(figsize=(10,6))\n",
    "sns.boxplot(data.table)\n",
    "plt.title('Table Boxplot')\n",
    "plt.xlabel(\"Table\")\n",
    "plt.show()\n",
    "\n",
    "sns.boxplot(data.depth)\n",
    "plt.title('depth Boxplot')\n",
    "plt.xlabel(\"depth\")\n",
    "plt.show()\n",
    "\n",
    "sns.boxplot(data.carat)\n",
    "plt.title('carat Boxplot')\n",
    "plt.xlabel(\"carat\")\n",
    "plt.show()\n",
    "\n",
    "sns.boxplot(data.x)\n",
    "plt.title('x Boxplot')\n",
    "plt.xlabel(\"x\")\n",
    "plt.show()\n",
    "\n",
    "sns.boxplot(data.y)\n",
    "plt.title('y Boxplot')\n",
    "plt.xlabel(\"y\")\n",
    "plt.show()\n",
    "\n",
    "sns.boxplot(data.z)\n",
    "plt.title('z Boxplot')\n",
    "plt.xlabel(\"z\")\n",
    "plt.show()\n",
    "\n",
    "sns.boxplot(data.price)\n",
    "plt.title('price Boxplot')\n",
    "plt.xlabel(\"price\")\n",
    "plt.show()\n",
    "\n"
   ]
  },
  {
   "cell_type": "code",
   "execution_count": null,
   "id": "fdd620ed",
   "metadata": {},
   "outputs": [],
   "source": [
    "data.describe()"
   ]
  },
  {
   "cell_type": "markdown",
   "id": "3149664f",
   "metadata": {},
   "source": [
    "The minimum values for x,y and z here are 0 but it is not possible because according to the data description they are the length, width and depth"
   ]
  },
  {
   "cell_type": "code",
   "execution_count": null,
   "id": "03da6b66",
   "metadata": {},
   "outputs": [],
   "source": [
    "print(\"Number of rows with x == 0: {} \".format((data.x==0).sum()))\n",
    "print(\"Number of rows with y == 0: {} \".format((data.y==0).sum()))\n",
    "print(\"Number of rows with z == 0: {} \".format((data.z==0).sum()))\n",
    "print(\"Number of rows with depth == 0: {} \".format((data.depth==0).sum()))"
   ]
  },
  {
   "cell_type": "markdown",
   "id": "ce1d2a55",
   "metadata": {},
   "source": [
    "Here we have 0 which mean NA replacing these with NA .A zero value in these rows means missing data so we can replace the zeros with nan. Another thing to notice is that the depth column doesn't have a single zero value. We know that depth is calculated using the three parameters only."
   ]
  },
  {
   "cell_type": "code",
   "execution_count": null,
   "id": "2b2e5486",
   "metadata": {},
   "outputs": [],
   "source": [
    "data[['x','y','z']] = data[['x','y','z']].replace(0,np.NaN)"
   ]
  },
  {
   "cell_type": "code",
   "execution_count": null,
   "id": "ce424408",
   "metadata": {},
   "outputs": [],
   "source": [
    "data.isnull().sum()\n"
   ]
  },
  {
   "cell_type": "markdown",
   "id": "842f4200",
   "metadata": {},
   "source": [
    "Since missing values are not much , dropping them will be easy"
   ]
  },
  {
   "cell_type": "code",
   "execution_count": null,
   "id": "d335645b",
   "metadata": {},
   "outputs": [],
   "source": [
    "data.dropna(inplace=True)"
   ]
  },
  {
   "cell_type": "code",
   "execution_count": null,
   "id": "50ae0e5b",
   "metadata": {},
   "outputs": [],
   "source": [
    "data.shape"
   ]
  },
  {
   "cell_type": "code",
   "execution_count": null,
   "id": "9b5df881",
   "metadata": {},
   "outputs": [],
   "source": [
    "data.cut.unique()"
   ]
  },
  {
   "cell_type": "code",
   "execution_count": null,
   "id": "8dd33eac",
   "metadata": {},
   "outputs": [],
   "source": [
    "data.color.unique()"
   ]
  },
  {
   "cell_type": "code",
   "execution_count": null,
   "id": "4b70da07",
   "metadata": {},
   "outputs": [],
   "source": [
    "data.clarity.unique()"
   ]
  },
  {
   "cell_type": "code",
   "execution_count": null,
   "id": "6128a01a",
   "metadata": {},
   "outputs": [],
   "source": [
    "col=data.columns\n",
    "for i in col:\n",
    "    if data[i].dtype==np.object:\n",
    "        s=set(data[i])\n",
    "        d={}\n",
    "        for i1,j in enumerate(s):\n",
    "            d[j]=i1\n",
    "            \n",
    "        data[i]=list(map(lambda k:d[k],data[i]))   "
   ]
  },
  {
   "cell_type": "code",
   "execution_count": null,
   "id": "713c939b",
   "metadata": {},
   "outputs": [],
   "source": [
    "data.head()"
   ]
  },
  {
   "cell_type": "code",
   "execution_count": null,
   "id": "c365f092",
   "metadata": {},
   "outputs": [],
   "source": [
    "plt.figure(figsize=(8,7))  \n",
    "heat=sns.heatmap(data.corr(), annot=True,cmap='RdYlGn')"
   ]
  },
  {
   "cell_type": "markdown",
   "id": "49894e38",
   "metadata": {},
   "source": [
    "Cut, Color , Clarity are not much affecting price , whereas Price is corelated with carat , x, y, z"
   ]
  },
  {
   "cell_type": "code",
   "execution_count": null,
   "id": "3b722bf3",
   "metadata": {},
   "outputs": [],
   "source": [
    "from sklearn.model_selection import train_test_split\n",
    "x=data.drop(['price'],axis=1)\n",
    "y=data['price']\n",
    "X_train,X_test,Y_train,Y_test=train_test_split(x,y,test_size=0.3,random_state=0)\n",
    "from sklearn.preprocessing import StandardScaler\n",
    "sc=StandardScaler()\n",
    "X_train=sc.fit_transform(X_train)\n",
    "X_test=sc.fit_transform(X_test)"
   ]
  },
  {
   "cell_type": "markdown",
   "id": "f0b8800a",
   "metadata": {},
   "source": [
    "## Model Building"
   ]
  },
  {
   "cell_type": "raw",
   "id": "aa3b7699",
   "metadata": {},
   "source": [
    "REGRESSION MODELS\n",
    "1) Linear Regression\n",
    "2) Ridge Regression\n",
    "3) Lasso Regression\n",
    "4) ElasticNet Regression\n",
    "5) Principal Component Regression\n",
    "6) Partial Least Square Regression\n",
    "7) Support Vector Regression\n",
    "8) Random forest regressor\n",
    "9) Decision tree regressor\n",
    "10) K-nearest neighbor\n",
    "11) Gradient Boosting Regression\n",
    "12) XGBoost Regressor\n",
    "13) Bagging Regressor\n",
    "14) Ada Boost Regressor\n",
    "\n",
    "\n",
    "13) Negative Binomial Regression -----------------------------------\n",
    "14) Quasi-Poisson Regression----------------------------------------\n",
    "15) Cox Regression--------------------------------------------------"
   ]
  },
  {
   "cell_type": "markdown",
   "id": "2885817a",
   "metadata": {},
   "source": [
    "LINEAR REGRESSION "
   ]
  },
  {
   "cell_type": "code",
   "execution_count": null,
   "id": "f367094d",
   "metadata": {},
   "outputs": [],
   "source": [
    "from sklearn.metrics import mean_absolute_error\n",
    "from sklearn.metrics import mean_squared_error\n",
    "from sklearn.metrics import r2_score\n",
    "from sklearn import linear_model\n",
    "import math"
   ]
  },
  {
   "cell_type": "code",
   "execution_count": null,
   "id": "122d4efc",
   "metadata": {},
   "outputs": [],
   "source": [
    "linear_reg = linear_model.LinearRegression()\n",
    "linear_reg.fit(X_train,Y_train)\n",
    "linear_Y_pred = linear_reg.predict(X_test)\n",
    "\n",
    "\n",
    "print(\"accuracy: \"+ str(linear_reg.score(X_test,Y_test)*100) + \"%\")\n",
    "print(\"Mean absolute error: {}\".format(mean_absolute_error(Y_test,linear_Y_pred)))\n",
    "print(\"Root Mean squared error: {}\".format(math.sqrt(mean_squared_error(Y_test,linear_Y_pred))))\n",
    "R2 = r2_score(Y_test,linear_Y_pred)\n",
    "print('R Squared: {}'.format(R2))\n",
    "n=X_test.shape[0]\n",
    "p=X_test.shape[1] - 1\n",
    "adj_rsquared = 1 - (1 - R2) * ((n - 1)/(n-p-1))\n",
    "print('Adjusted R Squared: {}'.format(adj_rsquared))\n"
   ]
  },
  {
   "cell_type": "markdown",
   "id": "2f46e112",
   "metadata": {},
   "source": [
    "RIDGE REGRESSION"
   ]
  },
  {
   "cell_type": "code",
   "execution_count": null,
   "id": "205048f0",
   "metadata": {},
   "outputs": [],
   "source": [
    "from sklearn.linear_model import Ridge\n",
    "ridge_reg = Ridge()\n",
    "ridge_reg.fit(X_train, Y_train)\n",
    "ridge_Y_pred = ridge_reg.predict(X_test)\n",
    "print(\"accuracy: \"+ str(ridge_reg.score(X_test,Y_test)*100) + \"%\")\n",
    "print(\"Mean absolute error: {}\".format(mean_absolute_error(Y_test,ridge_Y_pred)))\n",
    "print(\"Root Mean squared error: {}\".format(math.sqrt(mean_squared_error(Y_test,ridge_Y_pred))))\n",
    "R2 = r2_score(Y_test,ridge_Y_pred)\n",
    "print('R Squared: {}'.format(R2))\n",
    "n=X_test.shape[0]\n",
    "p=X_test.shape[1] - 1\n",
    "\n",
    "adj_rsquared = 1 - (1 - R2) * ((n - 1)/(n-p-1))\n",
    "print('Adjusted R Squared: {}'.format(adj_rsquared))"
   ]
  },
  {
   "cell_type": "markdown",
   "id": "9a97e576",
   "metadata": {},
   "source": [
    "LASSO REGRESSION"
   ]
  },
  {
   "cell_type": "code",
   "execution_count": null,
   "id": "530f25b0",
   "metadata": {},
   "outputs": [],
   "source": [
    "lasso_reg = linear_model.Lasso()\n",
    "lasso_reg.fit(X_train,Y_train)\n",
    "lasso_y_pred = lasso_reg.predict(X_test)\n",
    "print(\"accuracy: \"+ str(lasso_reg.score(X_test,Y_test)*100) + \"%\")\n",
    "print(\"Mean absolute error: {}\".format(mean_absolute_error(Y_test,lasso_y_pred)))\n",
    "print(\"Root Mean squared error: {}\".format(math.sqrt(mean_squared_error(Y_test,lasso_y_pred))))\n",
    "R2 = r2_score(Y_test,lasso_y_pred)\n",
    "print('R Squared: {}'.format(R2))\n",
    "n=X_test.shape[0]\n",
    "p=X_test.shape[1] - 1\n",
    "\n",
    "adj_rsquared = 1 - (1 - R2) * ((n - 1)/(n-p-1))\n",
    "print('Adjusted R Squared: {}'.format(adj_rsquared))"
   ]
  },
  {
   "cell_type": "markdown",
   "id": "fd60bf59",
   "metadata": {},
   "source": [
    "ElasticNet Regression "
   ]
  },
  {
   "cell_type": "code",
   "execution_count": null,
   "id": "53c7f31e",
   "metadata": {},
   "outputs": [],
   "source": [
    "elas_reg = linear_model.ElasticNet(alpha=0.1, l1_ratio=0.5)\n",
    "elas_reg.fit(X_train,Y_train)\n",
    "elas_y_pred = elas_reg.predict(X_test)\n",
    "\n",
    "print(\"accuracy: \"+ str(elas_reg.score(X_test,Y_test)*100) + \"%\")\n",
    "print(\"Mean absolute error: {}\".format(mean_absolute_error(Y_test,elas_y_pred)))\n",
    "print(\"Root Mean squared error: {}\".format(math.sqrt(mean_squared_error(Y_test,elas_y_pred))))\n",
    "R2 = r2_score(Y_test,elas_y_pred)\n",
    "print('R Squared: {}'.format(R2))\n",
    "n=X_test.shape[0]\n",
    "p=X_test.shape[1] - 1\n",
    "\n",
    "adj_rsquared = 1 - (1 - R2) * ((n - 1)/(n-p-1))\n",
    "print('Adjusted R Squared: {}'.format(adj_rsquared))"
   ]
  },
  {
   "cell_type": "markdown",
   "id": "8d1e75ca",
   "metadata": {},
   "source": [
    "Principal Component Regression"
   ]
  },
  {
   "cell_type": "code",
   "execution_count": null,
   "id": "76df81f1",
   "metadata": {},
   "outputs": [],
   "source": [
    "from sklearn.model_selection import train_test_split\n",
    "from sklearn.pipeline import make_pipeline\n",
    "from sklearn.linear_model import LinearRegression\n",
    "from sklearn.preprocessing import StandardScaler\n",
    "from sklearn.decomposition import PCA\n",
    "from sklearn.cross_decomposition import PLSRegression"
   ]
  },
  {
   "cell_type": "code",
   "execution_count": null,
   "id": "eb940e15",
   "metadata": {},
   "outputs": [],
   "source": [
    "pcr = make_pipeline(StandardScaler(), PCA(n_components=1), LinearRegression())\n",
    "pcr.fit(X_train, Y_train)\n",
    "pca = pcr.named_steps[\"pca\"]  # retrieve the PCA step of the pipeline\n",
    "pcr_y_pred = pcr.predict(X_test)\n",
    "\n",
    "print(\"accuracy: \"+ str(pcr.score(X_test,Y_test)*100) + \"%\")\n",
    "print(\"Mean absolute error: {}\".format(mean_absolute_error(Y_test,pcr_y_pred)))\n",
    "print(\"Root Mean squared error: {}\".format(math.sqrt(mean_squared_error(Y_test,pcr_y_pred))))\n",
    "R2 = r2_score(Y_test,pcr_y_pred)\n",
    "print('R Squared: {}'.format(R2))\n",
    "n=X_test.shape[0]\n",
    "p=X_test.shape[1] - 1\n",
    "adj_rsquared = 1 - (1 - R2) * ((n - 1)/(n-p-1))\n",
    "print('Adjusted R Squared: {}'.format(adj_rsquared))\n",
    "print(f\"PCR r-squared {pcr.score(X_test, Y_test):.3f}\")"
   ]
  },
  {
   "cell_type": "markdown",
   "id": "6a87525d",
   "metadata": {},
   "source": [
    "Partial Least Square Regression"
   ]
  },
  {
   "cell_type": "code",
   "execution_count": null,
   "id": "5d4333de",
   "metadata": {},
   "outputs": [],
   "source": [
    "X_train,X_test,Y_train,Y_test=train_test_split(x,y,test_size=0.3,random_state=0)"
   ]
  },
  {
   "cell_type": "code",
   "execution_count": null,
   "id": "bd608158",
   "metadata": {},
   "outputs": [],
   "source": [
    "pls = PLSRegression(n_components=1)\n",
    "pls.fit(X_train, Y_train)\n",
    "pls_y_pred = pls.predict(X_test)\n",
    "print(\"accuracy: \"+ str(pls.score(X_test,Y_test)*100) + \"%\")\n",
    "print(\"Mean absolute error: {}\".format(mean_absolute_error(Y_test,pls_y_pred)))\n",
    "print(\"Root Mean squared error: {}\".format(math.sqrt(mean_squared_error(Y_test,pls_y_pred))))\n",
    "R2 = r2_score(Y_test,pls_y_pred)\n",
    "print('R Squared: {}'.format(R2))\n",
    "n=X_test.shape[0]\n",
    "p=X_test.shape[1] - 1\n",
    "adj_rsquared = 1 - (1 - R2) * ((n - 1)/(n-p-1))\n",
    "print('Adjusted R Squared: {}'.format(adj_rsquared))\n",
    "print(f\"PLS r-squared {pls.score(X_test, Y_test):.3f}\")"
   ]
  },
  {
   "cell_type": "raw",
   "id": "a9413414",
   "metadata": {},
   "source": [
    "X_train,X_test,Y_train,Y_test=train_test_split(x,y,test_size=0.3,random_state=0)"
   ]
  },
  {
   "cell_type": "markdown",
   "id": "fe441411",
   "metadata": {},
   "source": [
    "POISSON REGRESSION"
   ]
  },
  {
   "cell_type": "raw",
   "id": "6c8c13fc",
   "metadata": {},
   "source": [
    "X_train,X_test,Y_train,Y_test=train_test_split(x,y,test_size=0.3,random_state=0)\n",
    "sc=StandardScaler()\n",
    "X_train=sc.fit_transform(X_train)\n",
    "X_test=sc.fit_transform(X_test)"
   ]
  },
  {
   "cell_type": "raw",
   "id": "2887b2c7",
   "metadata": {},
   "source": [
    "clf = linear_model.PoissonRegressor()\n",
    "clf.fit(X_train, Y_train)\n",
    "clf_y_pred = clf.predict(X_test)\n",
    "clf.score(X_test,Y_test)"
   ]
  },
  {
   "cell_type": "raw",
   "id": "7c3796bf",
   "metadata": {},
   "source": [
    "print(\"accuracy: \"+ str(clf.score(X_test,Y_test)*100) + \"%\")\n",
    "print(\"Mean absolute error: {}\".format(mean_absolute_error(Y_test,clf_y_pred)))\n",
    "print(\"Mean squared error: {}\".format(mean_squared_error(Y_test,clf_y_pred)))\n",
    "R2 = r2_score(Y_test,clf_y_pred)\n",
    "print('R Squared: {}'.format(R2))\n",
    "n=X_test.shape[0]\n",
    "p=X_test.shape[1] - 1\n",
    "adj_rsquared = 1 - (1 - R2) * ((n - 1)/(n-p-1))\n",
    "print('Adjusted R Squared: {}'.format(adj_rsquared))"
   ]
  },
  {
   "cell_type": "markdown",
   "id": "e897fbf5",
   "metadata": {},
   "source": [
    "RANDOM FOREST REGRESSOR"
   ]
  },
  {
   "cell_type": "code",
   "execution_count": null,
   "id": "6200aba2",
   "metadata": {},
   "outputs": [],
   "source": [
    "from sklearn.ensemble import RandomForestRegressor\n",
    "rf = RandomForestRegressor( n_estimators = 15,random_state = 0)\n",
    "rf.fit(X_train,Y_train)\n",
    "rf_y_pred = rf.predict(X_test)\n",
    "print(\"accuracy: \"+ str(rf.score(X_test,Y_test)*100) + \"%\")\n",
    "print(\"Mean absolute error: {}\".format(mean_absolute_error(Y_test,rf_y_pred)))\n",
    "print(\"Root Mean squared error: {}\".format(math.sqrt(mean_squared_error(Y_test,rf_y_pred))))\n",
    "R2 = r2_score(Y_test,rf_y_pred)\n",
    "print('R Squared: {}'.format(R2))\n",
    "n=X_test.shape[0]\n",
    "p=X_test.shape[1] - 1\n",
    "adj_rsquared = 1 - (1 - R2) * ((n - 1)/(n-p-1))\n",
    "print('Adjusted R Squared: {}'.format(adj_rsquared))"
   ]
  },
  {
   "cell_type": "code",
   "execution_count": null,
   "id": "08cd4834",
   "metadata": {},
   "outputs": [],
   "source": [
    "from sklearn.ensemble import RandomForestRegressor\n",
    "from sklearn import cluster\n",
    "from sklearn.model_selection import cross_val_score\n",
    "from sklearn import metrics\n",
    "from sklearn.metrics import mean_squared_error, r2_score, silhouette_samples, silhouette_score\n",
    "import warnings\n",
    "warnings.filterwarnings(\"ignore\")"
   ]
  },
  {
   "cell_type": "raw",
   "id": "3352fe34",
   "metadata": {},
   "source": [
    "rand_f = RandomForestRegressor(max_depth=2, random_state=0)\n",
    "rand_f.fit(X_train, Y_train)\n",
    "\n",
    "\n",
    "y_pred = rand_f.predict(X_test)\n",
    "\n",
    "accuracy_rand_f = cross_val_score(estimator = rand_f, X = X_train, y = Y_train, cv = 8, verbose = 1)\n",
    "r2_rand_f = r2_score(Y_test, y_pred)\n",
    "mse_rand_f = mean_squared_error(Y_test, y_pred)\n",
    "\n",
    "print(f'Accuracy is {accuracy_rand_f}')\n",
    "print(f'r2_Score is {r2_rand_f}')\n",
    "print(f'Mean Squared error is {mse_rand_f}')"
   ]
  },
  {
   "cell_type": "markdown",
   "id": "6de028c0",
   "metadata": {},
   "source": [
    "DECISION TREE REGRESSOR"
   ]
  },
  {
   "cell_type": "code",
   "execution_count": null,
   "id": "11013153",
   "metadata": {},
   "outputs": [],
   "source": [
    "from sklearn.tree import DecisionTreeRegressor\n",
    "dtree = DecisionTreeRegressor()\n",
    "\n",
    "dtree.fit(X_train, Y_train)\n",
    "\n",
    "\n",
    "y_pred = dtree.predict(X_test)\n",
    "\n",
    "accuracy_dtree = cross_val_score(estimator = dtree, X = X_train, y = Y_train, cv = 8, verbose = 1)\n",
    "r2_dtree = r2_score(Y_test, y_pred)\n",
    "mse_dtree = mean_squared_error(Y_test, y_pred)\n",
    "\n",
    "print(f'Accuracy is {accuracy_dtree}')\n",
    "print(f'r2_Score is {r2_dtree}')\n",
    "print(f'Root Mean Squared error is {math.sqrt(mse_dtree)}')\n",
    "print(\"Mean absolute error: {}\".format(mean_absolute_error(Y_test,y_pred)))"
   ]
  },
  {
   "cell_type": "markdown",
   "id": "f02c3b26",
   "metadata": {},
   "source": [
    "KNN"
   ]
  },
  {
   "cell_type": "code",
   "execution_count": null,
   "id": "ebfed935",
   "metadata": {},
   "outputs": [],
   "source": [
    "from sklearn.neighbors import KNeighborsRegressor\n",
    "kn = KNeighborsRegressor(n_neighbors = 2)\n",
    "kn.fit(X_train, Y_train)\n",
    "\n",
    "\n",
    "y_pred = kn.predict(X_test)\n",
    "\n",
    "accuracy_kn = cross_val_score(estimator = kn, X = X_train, y = Y_train, cv = 8, verbose = 1)\n",
    "r2_kn = r2_score(Y_test, y_pred)\n",
    "mse_kn = mean_squared_error(Y_test, y_pred)\n",
    "\n",
    "print(f'Accuracy is {accuracy_kn}')\n",
    "print(f'r2_Score is {r2_kn}')\n",
    "print(f'Root Mean Squared error is {math.sqrt(mse_kn)}')\n",
    "print(\"Mean absolute error: {}\".format(mean_absolute_error(Y_test,y_pred)))"
   ]
  },
  {
   "cell_type": "markdown",
   "id": "231b08af",
   "metadata": {},
   "source": [
    "GradientBoostingRegressor"
   ]
  },
  {
   "cell_type": "code",
   "execution_count": null,
   "id": "e118250f",
   "metadata": {},
   "outputs": [],
   "source": [
    "from sklearn.ensemble import GradientBoostingRegressor\n",
    "model= GradientBoostingRegressor()\n",
    "model.fit(X_train, Y_train)\n",
    "pred=model.predict(X_test)\n",
    "print(\"accuracy: \"+ str(model.score(X_test,Y_test)*100) + \" %\")\n",
    "print(\"Mean absolute error: {}\".format(mean_absolute_error(Y_test,pred)))\n",
    "print(\"Root Mean squared error: {}\".format(math.sqrt(mean_squared_error(Y_test,pred))))\n",
    "R2 = r2_score(Y_test,pred)\n",
    "print('R Squared: {}'.format(R2))\n",
    "n=X_test.shape[0]\n",
    "p=X_test.shape[1] - 1\n",
    "adj_rsquared = 1 - (1 - R2) * ((n - 1)/(n-p-1))\n",
    "print('Adjusted R Squared: {}'.format(adj_rsquared))\n",
    "print(f\"PLS r-squared {pls.score(X_test, Y_test):.3f}\")"
   ]
  },
  {
   "cell_type": "markdown",
   "id": "2d6c6d33",
   "metadata": {},
   "source": [
    "XGBoost Regressor"
   ]
  },
  {
   "cell_type": "code",
   "execution_count": null,
   "id": "80a23bc7",
   "metadata": {},
   "outputs": [],
   "source": [
    "import xgboost as xgb\n",
    "model=xgb.XGBRegressor()\n",
    "model.fit(X_train, Y_train)\n",
    "model.score(X_test,Y_test)\n",
    "pred=model.predict(X_test)\n",
    "print(\"accuracy: \"+ str(model.score(X_test,Y_test)*100) + \" %\")\n",
    "print(\"Mean absolute error: {}\".format(mean_absolute_error(Y_test,pred)))\n",
    "print(\"Root Mean squared error: {}\".format(math.sqrt(mean_squared_error(Y_test,pred))))\n",
    "R2 = r2_score(Y_test,pred)\n",
    "print('R Squared: {}'.format(R2))\n",
    "n=X_test.shape[0]\n",
    "p=X_test.shape[1] - 1\n",
    "adj_rsquared = 1 - (1 - R2) * ((n - 1)/(n-p-1))\n",
    "print('Adjusted R Squared: {}'.format(adj_rsquared))\n",
    "print(f\"PLS r-squared {pls.score(X_test, Y_test):.3f}\")"
   ]
  },
  {
   "cell_type": "markdown",
   "id": "41cc9b22",
   "metadata": {},
   "source": [
    "Bagging Regressor"
   ]
  },
  {
   "cell_type": "code",
   "execution_count": null,
   "id": "2e293a82",
   "metadata": {},
   "outputs": [],
   "source": [
    "from sklearn import tree\n",
    "from sklearn.ensemble import BaggingRegressor\n",
    "model = BaggingRegressor(tree.DecisionTreeRegressor(random_state=1))\n",
    "model.fit(X_train, Y_train)\n",
    "model.score(X_test,Y_test)\n",
    "pred=model.predict(X_test)\n",
    "print(\"accuracy: \"+ str(model.score(X_test,Y_test)*100) + \" %\")\n",
    "print(\"Mean absolute error: {}\".format(mean_absolute_error(Y_test,pred)))\n",
    "print(\"Root Mean squared error: {}\".format(math.sqrt(mean_squared_error(Y_test,pred))))\n",
    "R2 = r2_score(Y_test,pred)\n",
    "print('R Squared: {}'.format(R2))\n",
    "n=X_test.shape[0]\n",
    "p=X_test.shape[1] - 1\n",
    "adj_rsquared = 1 - (1 - R2) * ((n - 1)/(n-p-1))\n",
    "print('Adjusted R Squared: {}'.format(adj_rsquared))\n",
    "print(f\"PLS r-squared {pls.score(X_test, Y_test):.3f}\")"
   ]
  },
  {
   "cell_type": "markdown",
   "id": "2565559a",
   "metadata": {},
   "source": [
    "AdaBoost Regressor"
   ]
  },
  {
   "cell_type": "code",
   "execution_count": null,
   "id": "54237fdc",
   "metadata": {},
   "outputs": [],
   "source": [
    "from sklearn.ensemble import AdaBoostRegressor\n",
    "model = AdaBoostRegressor()\n",
    "model.fit(X_train, Y_train)\n",
    "model.score(X_test,Y_test)\n",
    "pred=model.predict(X_test)\n",
    "print(\"accuracy: \"+ str(model.score(X_test,Y_test)*100) + \" %\")\n",
    "print(\"Mean absolute error: {}\".format(mean_absolute_error(Y_test,pred)))\n",
    "print(\"Root Mean squared error: {}\".format(math.sqrt(mean_squared_error(Y_test,pred))))\n",
    "R2 = r2_score(Y_test,pred)\n",
    "print('R Squared: {}'.format(R2))\n",
    "n=X_test.shape[0]\n",
    "p=X_test.shape[1] - 1\n",
    "adj_rsquared = 1 - (1 - R2) * ((n - 1)/(n-p-1))\n",
    "print('Adjusted R Squared: {}'.format(adj_rsquared))\n",
    "print(f\"PLS r-squared {pls.score(X_test, Y_test):.3f}\")"
   ]
  },
  {
   "cell_type": "markdown",
   "id": "295baa0e",
   "metadata": {},
   "source": [
    "<table ><tr><th >S.No. <th><th> Algorithms <th><th> Accuracy (%) <tr><tr><table>\n",
    "<tr><td> 1 <td><td> Linear Regression <td><td> 76.738 <td><tr><table>\n",
    " <tr><td> 2 <td><td> Ridge Regression <td><td> 77.199 <td><tr><table>\n",
    " <tr><td> 3 <td><td> Lasso Regression <td><td> 81.643 <td><tr><table>\n",
    " <tr><td> 4 <td><td> ElasticNet Regression <td><td> 83.713 <td><tr><table><table>\n",
    " <tr><td> 5 <td><td> Principal Component Regression <td><td> 79.122 <td><tr><table>\n",
    " <tr><td> 6 <td><td> Partial Least Square Regression <td><td> 79.568 <td><tr><table>\n",
    " <tr><td> 7 <td><td> Random Forest Regressor <td><td> 96.976 <td><tr><table>\n",
    " <tr><td> 8 <td><td> Decision Tree Regressor <td><td> 96.821 <td><tr><table>\n",
    " <tr><td> 9 <td><td> K-nearest neighbor Regressor <td><td> 94.745 <td><tr><table>\n",
    " <tr><td> 10 <td><td> Gradient Boosting Regressor <td><td> 95.643 <td><tr><table>\n",
    " <tr><td> 11 <td><td> XgBoost Regressor <td><td> 96.866 <td><tr><table>\n",
    " <tr><td> 12 <td><td> Bagging Regressor <td><td> 96.760 <td><tr><table>\n",
    " <tr><td> 13 <td><td> AdaBoost Regressor <td><td> 89.200 <td><tr><table>\n",
    "   "
   ]
  },
  {
   "cell_type": "markdown",
   "id": "57ac0fe0",
   "metadata": {},
   "source": [
    "Lightgbm"
   ]
  },
  {
   "cell_type": "raw",
   "id": "86f11c90",
   "metadata": {},
   "source": [
    "import lightgbm as lgb\n",
    "train_data=lgb.Dataset(X_train,label=Y_train)\n",
    "params = {'learning_rate':0.001}\n",
    "model= lgb.train(params, train_data, 100)\n",
    "pred=model.predict(X_test)"
   ]
  },
  {
   "cell_type": "raw",
   "id": "833512ee",
   "metadata": {},
   "source": [
    "#print(\"accuracy: \"+ str(model.score(X_test,Y_test)*100) + \" %\")\n",
    "print(\"Mean absolute error: {}\".format(mean_absolute_error(Y_test,pred)))\n",
    "print(\"Mean squared error: {}\".format(mean_squared_error(Y_test,pred)))\n",
    "R2 = r2_score(Y_test,pred)\n",
    "print('R Squared: {}'.format(R2))\n",
    "n=X_test.shape[0]\n",
    "p=X_test.shape[1] - 1\n",
    "adj_rsquared = 1 - (1 - R2) * ((n - 1)/(n-p-1))\n",
    "print('Adjusted R Squared: {}'.format(adj_rsquared))\n",
    "print(f\"PLS r-squared {pls.score(X_test, Y_test):.3f}\")"
   ]
  },
  {
   "cell_type": "markdown",
   "id": "4202652c",
   "metadata": {},
   "source": [
    "SUPPORT VECTOR REGRESSOR"
   ]
  },
  {
   "cell_type": "markdown",
   "id": "500d5436",
   "metadata": {},
   "source": [
    "X_train,X_test,Y_train,Y_test=train_test_split(x,y,test_size=0.3,random_state=0)"
   ]
  },
  {
   "cell_type": "raw",
   "id": "9cea0f84",
   "metadata": {},
   "source": [
    "from sklearn.svm import SVR\n",
    "svr_reg = SVR(kernel = 'rbf')\n",
    "svr_reg.fit(X_train, Y_train)\n",
    "svr_y_pred = svr_reg.predict(X_test)\n",
    "print(\"accuracy: \"+ str(svr_reg.score(X_test,Y_test)*100) + \"%\")\n",
    "print(\"Mean absolute error: {}\".format(mean_absolute_error(Y_test,svr_y_pred)))\n",
    "print(\"Mean squared error: {}\".format(mean_squared_error(Y_test,svr_y_pred)))\n",
    "R2 = r2_score(Y_test,svr_y_pred)\n",
    "print('R Squared: {}'.format(R2))\n",
    "n=X_test.shape[0]\n",
    "p=X_test.shape[1] - 1\n",
    "adj_rsquared = 1 - (1 - R2) * ((n - 1)/(n-p-1))\n",
    "print('Adjusted R Squared: {}'.format(adj_rsquared))"
   ]
  },
  {
   "cell_type": "raw",
   "id": "f4cfebd5",
   "metadata": {},
   "source": [
    "import pandas\n",
    "import matplotlib.pyplot as plt\n",
    "from sklearn import model_selection\n",
    "from sklearn.linear_model import LogisticRegression\n",
    "from sklearn.tree import DecisionTreeClassifier\n",
    "from sklearn.neighbors import KNeighborsClassifier\n",
    "from sklearn.discriminant_analysis import LinearDiscriminantAnalysis\n",
    "from sklearn.naive_bayes import GaussianNB\n",
    "from sklearn.svm import SVC\n",
    "models = []\n",
    "models.append(('LR', LinearRegression()))\n",
    "models.append(('R', Ridge()))\n",
    "models.append(('KNN', KNeighborsClassifier()))\n",
    "models.append(('CART', DecisionTreeClassifier()))\n",
    "models.append(('NB', GaussianNB()))\n",
    "models.append(('SVM', SVC()))\n",
    "# evaluate each model in turn\n",
    "results = []\n",
    "names = []\n",
    "seed=7\n",
    "scoring = 'accuracy'\n",
    "for name, model in models:\n",
    "\tkfold = model_selection.KFold(n_splits=10,shuffle =True, random_state=seed)\n",
    "\tcv_results = model_selection.cross_val_score(model, X_test, Y_test, cv=kfold, scoring=scoring)\n",
    "\tresults.append(cv_results)\n",
    "\tnames.append(name)\n",
    "\tmsg = \"%s: %f (%f)\" % (name, cv_results.mean(), cv_results.std())\n",
    "\tprint(msg)\n",
    "# boxplot algorithm comparison\n",
    "fig = plt.figure()\n",
    "fig.suptitle('Algorithm Comparison')\n",
    "ax = fig.add_subplot(111)\n",
    "plt.boxplot(results)\n",
    "ax.set_xticklabels(names)\n",
    "plt.show()"
   ]
  },
  {
   "cell_type": "raw",
   "id": "5fd29031",
   "metadata": {},
   "source": [
    "model = lgb.LGBMClassifier(learning_rate=0.09,max_depth=-5,random_state=42)\n",
    "model.fit(X_train,Y_train,eval_set=[(X_test,Y_test),(X_train,Y_train)],\n",
    "          verbose=20,eval_metric='logloss')\n",
    "print(\"accuracy: \"+ str(model.score(X_test,Y_test)*100) + \" %\")"
   ]
  },
  {
   "cell_type": "code",
   "execution_count": null,
   "id": "ed8afacc",
   "metadata": {},
   "outputs": [],
   "source": [
    "import matplotlib.pyplot as plt\n",
    "import numpy as np\n",
    "plt.style.use('_mpl-gallery')\n",
    "\n",
    "# make data:\n",
    "x = \n",
    "y = np.random.uniform(2, 7, len(x))\n",
    "\n",
    "# plot\n",
    "fig, ax = plt.subplots()\n",
    "\n",
    "ax.bar(x, y, width=1, edgecolor=\"white\", linewidth=0.7)\n",
    "\n",
    "ax.set(xlim=(0, 8), xticks=np.arange(1, 8),\n",
    "       ylim=(0, 8), yticks=np.arange(1, 8))\n",
    "\n",
    "plt.show()"
   ]
  },
  {
   "cell_type": "code",
   "execution_count": null,
   "id": "38157b33",
   "metadata": {},
   "outputs": [],
   "source": []
  }
 ],
 "metadata": {
  "kernelspec": {
   "display_name": "Python 3 (ipykernel)",
   "language": "python",
   "name": "python3"
  },
  "language_info": {
   "codemirror_mode": {
    "name": "ipython",
    "version": 3
   },
   "file_extension": ".py",
   "mimetype": "text/x-python",
   "name": "python",
   "nbconvert_exporter": "python",
   "pygments_lexer": "ipython3",
   "version": "3.10.1"
  }
 },
 "nbformat": 4,
 "nbformat_minor": 5
}
